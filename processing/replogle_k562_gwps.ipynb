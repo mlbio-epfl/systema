{
 "cells": [
  {
   "cell_type": "code",
   "execution_count": 1,
   "metadata": {},
   "outputs": [],
   "source": [
    "%load_ext autoreload\n",
    "%autoreload 2"
   ]
  },
  {
   "cell_type": "code",
   "execution_count": 2,
   "metadata": {},
   "outputs": [],
   "source": [
    "from gears import PertData, GEARS\n",
    "import numpy as np\n",
    "import pandas as pd\n",
    "from tqdm import tqdm\n",
    "import scanpy as sc\n",
    "import anndata\n",
    "from scipy.sparse import csr_matrix"
   ]
  },
  {
   "cell_type": "code",
   "execution_count": 3,
   "metadata": {},
   "outputs": [],
   "source": [
    "data_dir = '/mlbio_scratch/vinas/sc_perturbation_benchmark/data/replogle_k562_gwps_2022'"
   ]
  },
  {
   "cell_type": "markdown",
   "metadata": {},
   "source": [
    "#### Download data\n",
    "\n",
    "Data access: https://gwps.wi.mit.edu/\n",
    "\n",
    "* Files:\n",
    "  * K562_essential_raw_singlecell.h5ad (https://plus.figshare.com/articles/dataset/_Mapping_information-rich_genotype-phenotype_landscapes_with_genome-scale_Perturb-seq_Replogle_et_al_2022_processed_Perturb-seq_datasets/20029387)\n",
    "  * annotated_embedding_coordinates.csv (https://plus.figshare.com/articles/dataset/_Mapping_information-rich_genotype-phenotype_landscapes_with_genome-scale_Perturb-seq_Replogle_et_al_2022_-_commonly_requested_supplemental_files/21632564/1)"
   ]
  },
  {
   "cell_type": "code",
   "execution_count": 4,
   "metadata": {},
   "outputs": [],
   "source": [
    "adata = anndata.read_h5ad(f'{data_dir}/K562_gwps_raw_singlecell_01.h5ad')\n",
    "df_sub = pd.read_csv(f'{data_dir}/annotated_embedding_coordinates.csv')"
   ]
  },
  {
   "cell_type": "markdown",
   "metadata": {},
   "source": [
    "#### scGPT processing\n",
    "1. Select genes in annotated embedding coordinates, corresponding to perturbations that elicit strong phenotype changes.\n",
    "2. Downsample 100 samples per perturbation and 2500 control samples\n",
    "3. Normalize data (unsure why the scGPT authors performed HVG selection after downsampling).\n",
    "4. Keep HVGs and genes that were perturbed"
   ]
  },
  {
   "cell_type": "code",
   "execution_count": 5,
   "metadata": {},
   "outputs": [],
   "source": [
    "adata_ = adata[adata.obs['gene'].isin(list(df_sub.gene.values)+['non-targeting']), :]"
   ]
  },
  {
   "cell_type": "code",
   "execution_count": 8,
   "metadata": {},
   "outputs": [
    {
     "name": "stderr",
     "output_type": "stream",
     "text": [
      "100%|███████████████████████████████████████████████████████████████████████████████████████████████████████████████████████████████████████████████████████████████████████████████████████████████████████████████████████████████████████████████████████████████████████| 1970/1970 [00:09<00:00, 201.08it/s]\n"
     ]
    }
   ],
   "source": [
    "# Subsample to 100 samples per perturbation and 2500 control samples\n",
    "target_cells = 100\n",
    "cluster_key = 'gene'\n",
    "adatas = [adata_[adata_.obs[cluster_key]==clust] for clust in adata_.obs[cluster_key].cat.categories]\n",
    "for dat in tqdm(adatas):\n",
    "    if dat.n_obs > target_cells:\n",
    "        if dat.obs[cluster_key].cat.categories.values[0] != 'non-targeting':\n",
    "            sc.pp.subsample(dat, n_obs=target_cells)\n",
    "        else:\n",
    "            sc.pp.subsample(dat, n_obs=2500)\n",
    "adata_downsampled_ = adatas[0].concatenate(*adatas[1:])"
   ]
  },
  {
   "cell_type": "code",
   "execution_count": 9,
   "metadata": {},
   "outputs": [],
   "source": [
    "sc.pp.normalize_total(adata_downsampled_)\n",
    "sc.pp.log1p(adata_downsampled_)\n",
    "sc.pp.highly_variable_genes(adata_downsampled_, n_top_genes=5000, subset=False)\n",
    "hvg_flag_ = adata_downsampled_.var['highly_variable'].values\n",
    "gene_flag_ = adata_downsampled_.var['gene_name'].isin(adata_downsampled_.obs['gene'].values).values\n",
    "select_flag_ = np.logical_or(hvg_flag_, gene_flag_)\n",
    "condition_flag_ = adata_downsampled_.obs['gene'].isin(adata_downsampled_.var['gene_name'].values.tolist()+['non-targeting']).values\n",
    "adata_subset = adata_downsampled_[condition_flag_, select_flag_]"
   ]
  },
  {
   "cell_type": "code",
   "execution_count": null,
   "metadata": {},
   "outputs": [],
   "source": [
    "# Prepare data in GEARS format\n",
    "adata_subset.obs['condition'] = [i+'+ctrl' for i in adata_subset.obs['gene'].values]\n",
    "adata_subset.obs['condition'] = adata_subset.obs['condition'].replace({'non-targeting+ctrl': 'ctrl'})\n",
    "adata_subset.obs['cell_type'] = 'K562'"
   ]
  },
  {
   "cell_type": "code",
   "execution_count": 11,
   "metadata": {},
   "outputs": [
    {
     "name": "stderr",
     "output_type": "stream",
     "text": [
      "Downloading...\n",
      "100%|██████████████████████████████████████████████████████████████████████████████████████████████████████████████████████████████████████████████████████████████████████████████████████████████████████████████████████████████████████████████████████████████████████| 9.46M/9.46M [00:00<00:00, 9.85MiB/s]\n",
      "Downloading...\n",
      "100%|████████████████████████████████████████████████████████████████████████████████████████████████████████████████████████████████████████████████████████████████████████████████████████████████████████████████████████████████████████████████████████████████████████| 559k/559k [00:00<00:00, 1.42MiB/s]\n",
      "Creating pyg object for each cell in the data...\n",
      "Creating dataset file...\n",
      "  1%|█▍                                                                                                                                                                                                                                                                        | 10/1823 [00:05<21:47,  1.39it/s]"
     ]
    },
    {
     "name": "stdout",
     "output_type": "stream",
     "text": [
      "AC118549.1+ctrl\n"
     ]
    },
    {
     "name": "stderr",
     "output_type": "stream",
     "text": [
      "  7%|██████████████████▌                                                                                                                                                                                                                                                      | 128/1823 [01:07<13:37,  2.07it/s]"
     ]
    },
    {
     "name": "stdout",
     "output_type": "stream",
     "text": [
      "C7orf26+ctrl\n"
     ]
    },
    {
     "name": "stderr",
     "output_type": "stream",
     "text": [
      "  7%|███████████████████▏                                                                                                                                                                                                                                                     | 132/1823 [01:09<14:29,  1.94it/s]"
     ]
    },
    {
     "name": "stdout",
     "output_type": "stream",
     "text": [
      "C18orf21+ctrl\n"
     ]
    },
    {
     "name": "stderr",
     "output_type": "stream",
     "text": [
      " 26%|█████████████████████████████████████████████████████████████████████▍                                                                                                                                                                                                   | 478/1823 [04:10<09:26,  2.38it/s]"
     ]
    },
    {
     "name": "stdout",
     "output_type": "stream",
     "text": [
      "FAM102B+ctrl\n"
     ]
    },
    {
     "name": "stderr",
     "output_type": "stream",
     "text": [
      " 27%|███████████████████████████████████████████████████████████████████████                                                                                                                                                                                                  | 489/1823 [04:16<12:04,  1.84it/s]"
     ]
    },
    {
     "name": "stdout",
     "output_type": "stream",
     "text": [
      "FAU+ctrl\n"
     ]
    },
    {
     "name": "stderr",
     "output_type": "stream",
     "text": [
      " 30%|███████████████████████████████████████████████████████████████████████████████▎                                                                                                                                                                                         | 546/1823 [04:45<11:11,  1.90it/s]"
     ]
    },
    {
     "name": "stdout",
     "output_type": "stream",
     "text": [
      "GNB1L+ctrl\n"
     ]
    },
    {
     "name": "stderr",
     "output_type": "stream",
     "text": [
      " 30%|████████████████████████████████████████████████████████████████████████████████▍                                                                                                                                                                                        | 553/1823 [04:48<10:24,  2.03it/s]"
     ]
    },
    {
     "name": "stdout",
     "output_type": "stream",
     "text": [
      "GPALPP1+ctrl\n"
     ]
    },
    {
     "name": "stderr",
     "output_type": "stream",
     "text": [
      " 77%|████████████████████████████████████████████████████████████████████████████████████████████████████████████████████████████████████████████████████████████████████████████████████████████████████████████▏                                                           | 1410/1823 [12:33<02:51,  2.41it/s]"
     ]
    },
    {
     "name": "stdout",
     "output_type": "stream",
     "text": [
      "SEM1+ctrl\n"
     ]
    },
    {
     "name": "stderr",
     "output_type": "stream",
     "text": [
      " 90%|██████████████████████████████████████████████████████████████████████████████████████████████████████████████████████████████████████████████████████████████████████████████████████████████████████████████████████████████████████████████▎                         | 1646/1823 [14:39<01:51,  1.59it/s]"
     ]
    },
    {
     "name": "stdout",
     "output_type": "stream",
     "text": [
      "TRABD+ctrl\n"
     ]
    },
    {
     "name": "stderr",
     "output_type": "stream",
     "text": [
      "100%|████████████████████████████████████████████████████████████████████████████████████████████████████████████████████████████████████████████████████████████████████████████████████████████████████████████████████████████████████████████████████████████████████████| 1823/1823 [16:21<00:00,  1.86it/s]\n",
      "Done!\n",
      "Saving new dataset pyg object at /mlbio_scratch/vinas/sc_perturbation_benchmark/data/replogle_k562_gwps_2022/k562_1900_100/data_pyg/cell_graphs.pkl\n",
      "Done!\n"
     ]
    }
   ],
   "source": [
    "out_dir = data_dir\n",
    "pert_data = PertData(out_dir)\n",
    "adata_subset.X = csr_matrix(adata_subset.X)\n",
    "pert_data.new_data_process(dataset_name = 'k562_1900_{}'.format(target_cells), adata = adata_subset)"
   ]
  },
  {
   "cell_type": "code",
   "execution_count": null,
   "metadata": {},
   "outputs": [],
   "source": [
    "# Store data in sparse format\n",
    "adata.X = csr_matrix(adata.X)\n",
    "adata.write_h5ad(f'{data_dir}/K562_gwps_raw_singlecell_01.h5ad')"
   ]
  },
  {
   "cell_type": "code",
   "execution_count": null,
   "metadata": {},
   "outputs": [],
   "source": []
  }
 ],
 "metadata": {
  "kernelspec": {
   "display_name": "perturb_bench",
   "language": "python",
   "name": "perturb_bench"
  },
  "language_info": {
   "codemirror_mode": {
    "name": "ipython",
    "version": 3
   },
   "file_extension": ".py",
   "mimetype": "text/x-python",
   "name": "python",
   "nbconvert_exporter": "python",
   "pygments_lexer": "ipython3",
   "version": "3.10.16"
  }
 },
 "nbformat": 4,
 "nbformat_minor": 4
}
