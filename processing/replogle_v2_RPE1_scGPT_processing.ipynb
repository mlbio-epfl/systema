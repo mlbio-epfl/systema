{
 "cells": [
  {
   "cell_type": "code",
   "execution_count": 3,
   "metadata": {},
   "outputs": [
    {
     "name": "stdout",
     "output_type": "stream",
     "text": [
      "The autoreload extension is already loaded. To reload it, use:\n",
      "  %reload_ext autoreload\n"
     ]
    }
   ],
   "source": [
    "%load_ext autoreload\n",
    "%autoreload 2"
   ]
  },
  {
   "cell_type": "code",
   "execution_count": 4,
   "metadata": {},
   "outputs": [],
   "source": [
    "from gears import PertData, GEARS\n",
    "import numpy as np\n",
    "import pandas as pd\n",
    "from tqdm import tqdm\n",
    "import scanpy as sc\n",
    "import anndata\n",
    "from scipy.sparse import csr_matrix"
   ]
  },
  {
   "cell_type": "code",
   "execution_count": 5,
   "metadata": {},
   "outputs": [],
   "source": [
    "data_dir = '/mlbio_scratch/vinas/sc_perturbation_benchmark/data/replogle_rpe1_v2_2022'"
   ]
  },
  {
   "cell_type": "markdown",
   "metadata": {},
   "source": [
    "#### Download data\n",
    "\n",
    "Data access: https://gwps.wi.mit.edu/\n",
    "\n",
    "* Files:\n",
    "    * rpe1_raw_singlecell_01.h5ad (https://plus.figshare.com/articles/dataset/_Mapping_information-rich_genotype-phenotype_landscapes_with_genome-scale_Perturb-seq_Replogle_et_al_2022_processed_Perturb-seq_datasets/20029387)\n",
    "    * annotated_embedding_coordinates.csv (https://plus.figshare.com/articles/dataset/_Mapping_information-rich_genotype-phenotype_landscapes_with_genome-scale_Perturb-seq_Replogle_et_al_2022_-_commonly_requested_supplemental_files/21632564/1)"
   ]
  },
  {
   "cell_type": "code",
   "execution_count": 7,
   "metadata": {},
   "outputs": [],
   "source": [
    "adata = anndata.read_h5ad(f'{data_dir}/rpe1_raw_singlecell_01.h5ad')\n",
    "df_sub = pd.read_csv(f'{data_dir}/annotated_embedding_coordinates.csv')"
   ]
  },
  {
   "cell_type": "markdown",
   "metadata": {},
   "source": [
    "#### scGPT processing\n",
    "1. Select genes in annotated embedding coordinates, corresponding to perturbations that elicit strong phenotype changes.\n",
    "2. Downsample 100 samples per perturbation and 2500 control samples\n",
    "3. Normalize data (unsure why the scGPT authors performed HVG selection after downsampling).\n",
    "4. Keep HVGs and genes that were perturbed"
   ]
  },
  {
   "cell_type": "code",
   "execution_count": 11,
   "metadata": {},
   "outputs": [],
   "source": [
    "adata_ = adata[adata.obs['gene'].isin(list(df_sub.gene.values)+['non-targeting']), :]"
   ]
  },
  {
   "cell_type": "code",
   "execution_count": 14,
   "metadata": {},
   "outputs": [
    {
     "name": "stderr",
     "output_type": "stream",
     "text": [
      "100%|███████████████████████████████████████████████████████████████████████████████████████████████████████████████████████████████████████████████████████████████████████████████████████████████████████████████████████████████████████████████████████████████████████| 1527/1527 [00:03<00:00, 464.40it/s]\n"
     ]
    }
   ],
   "source": [
    "# Subsample to 100 samples per perturbation and 2500 control samples\n",
    "target_cells = 100\n",
    "cluster_key = 'gene'\n",
    "adatas = [adata_[adata_.obs[cluster_key]==clust] for clust in adata_.obs[cluster_key].cat.categories]\n",
    "for dat in tqdm(adatas):\n",
    "    if dat.n_obs > target_cells:\n",
    "        if dat.obs[cluster_key].cat.categories.values[0] != 'non-targeting':\n",
    "            sc.pp.subsample(dat, n_obs=target_cells)\n",
    "        else:\n",
    "            sc.pp.subsample(dat, n_obs=2500)\n",
    "adata_downsampled_ = adatas[0].concatenate(*adatas[1:])"
   ]
  },
  {
   "cell_type": "code",
   "execution_count": 15,
   "metadata": {},
   "outputs": [],
   "source": [
    "sc.pp.normalize_total(adata_downsampled_)\n",
    "sc.pp.log1p(adata_downsampled_)\n",
    "sc.pp.highly_variable_genes(adata_downsampled_, n_top_genes=5000, subset=False)\n",
    "hvg_flag_ = adata_downsampled_.var['highly_variable'].values\n",
    "gene_flag_ = adata_downsampled_.var['gene_name'].isin(adata_downsampled_.obs['gene'].values).values\n",
    "select_flag_ = np.logical_or(hvg_flag_, gene_flag_)\n",
    "condition_flag_ = adata_downsampled_.obs['gene'].isin(adata_downsampled_.var['gene_name'].values.tolist()+['non-targeting']).values\n",
    "adata_subset = adata_downsampled_[condition_flag_, select_flag_]"
   ]
  },
  {
   "cell_type": "code",
   "execution_count": 16,
   "metadata": {},
   "outputs": [
    {
     "data": {
      "text/plain": [
       "1416"
      ]
     },
     "execution_count": 16,
     "metadata": {},
     "output_type": "execute_result"
    }
   ],
   "source": [
    "# Prepare data in GEARS format\n",
    "adata_subset.obs['condition'] = [i+'+ctrl' for i in adata_subset.obs['gene'].values]\n",
    "adata_subset.obs['condition'] = adata_subset.obs['condition'].replace({'non-targeting+ctrl': 'ctrl'})\n",
    "adata_subset.obs['cell_type'] = 'RPE1'\n",
    "len(adata_subset.obs['condition'].unique())"
   ]
  },
  {
   "cell_type": "code",
   "execution_count": 17,
   "metadata": {},
   "outputs": [
    {
     "name": "stderr",
     "output_type": "stream",
     "text": [
      "Downloading...\n",
      "100%|██████████████████████████████████████████████████████████████████████████████████████████████████████████████████████████████████████████████████████████████████████████████████████████████████████████████████████████████████████████████████████████████████████| 9.46M/9.46M [00:01<00:00, 8.13MiB/s]\n",
      "Downloading...\n",
      "100%|████████████████████████████████████████████████████████████████████████████████████████████████████████████████████████████████████████████████████████████████████████████████████████████████████████████████████████████████████████████████████████████████████████| 559k/559k [00:00<00:00, 1.15MiB/s]\n",
      "Creating pyg object for each cell in the data...\n",
      "Creating dataset file...\n",
      "  1%|█▋                                                                                                                                                                                                                                                                         | 9/1416 [00:03<07:35,  3.09it/s]"
     ]
    },
    {
     "name": "stdout",
     "output_type": "stream",
     "text": [
      "AC118549.1+ctrl\n"
     ]
    },
    {
     "name": "stderr",
     "output_type": "stream",
     "text": [
      "  6%|████████████████▋                                                                                                                                                                                                                                                         | 89/1416 [00:32<04:20,  5.09it/s]"
     ]
    },
    {
     "name": "stdout",
     "output_type": "stream",
     "text": [
      "C7orf26+ctrl\n"
     ]
    },
    {
     "name": "stderr",
     "output_type": "stream",
     "text": [
      "  6%|█████████████████▎                                                                                                                                                                                                                                                        | 92/1416 [00:33<04:41,  4.70it/s]"
     ]
    },
    {
     "name": "stdout",
     "output_type": "stream",
     "text": [
      "C18orf21+ctrl\n"
     ]
    },
    {
     "name": "stderr",
     "output_type": "stream",
     "text": [
      " 26%|████████████████████████████████████████████████████████████████████▍                                                                                                                                                                                                    | 366/1416 [02:25<06:47,  2.58it/s]"
     ]
    },
    {
     "name": "stdout",
     "output_type": "stream",
     "text": [
      "FAU+ctrl\n"
     ]
    },
    {
     "name": "stderr",
     "output_type": "stream",
     "text": [
      " 77%|███████████████████████████████████████████████████████████████████████████████████████████████████████████████████████████████████████████████████████████████████████████████████████████████████████████▌                                                            | 1092/1416 [06:43<01:42,  3.17it/s]"
     ]
    },
    {
     "name": "stdout",
     "output_type": "stream",
     "text": [
      "SEM1+ctrl\n"
     ]
    },
    {
     "name": "stderr",
     "output_type": "stream",
     "text": [
      "100%|████████████████████████████████████████████████████████████████████████████████████████████████████████████████████████████████████████████████████████████████████████████████████████████████████████████████████████████████████████████████████████████████████████| 1416/1416 [08:48<00:00,  2.68it/s]\n",
      "Done!\n",
      "Saving new dataset pyg object at /mlbio_scratch/vinas/sc_perturbation_benchmark/data/replogle_rpe1_v2_2022/rpe1_1900_100/data_pyg/cell_graphs.pkl\n",
      "Done!\n"
     ]
    }
   ],
   "source": [
    "out_dir = '/mlbio_scratch/vinas/sc_perturbation_benchmark/data/replogle_rpe1_v2_2022'\n",
    "pert_data = PertData(out_dir)\n",
    "adata_subset.X = csr_matrix(adata_subset.X)\n",
    "pert_data.new_data_process(dataset_name = 'rpe1_1900_{}'.format(target_cells), adata = adata_subset)"
   ]
  }
 ],
 "metadata": {
  "kernelspec": {
   "display_name": "perturb_bench",
   "language": "python",
   "name": "perturb_bench"
  },
  "language_info": {
   "codemirror_mode": {
    "name": "ipython",
    "version": 3
   },
   "file_extension": ".py",
   "mimetype": "text/x-python",
   "name": "python",
   "nbconvert_exporter": "python",
   "pygments_lexer": "ipython3",
   "version": "3.10.16"
  }
 },
 "nbformat": 4,
 "nbformat_minor": 4
}
