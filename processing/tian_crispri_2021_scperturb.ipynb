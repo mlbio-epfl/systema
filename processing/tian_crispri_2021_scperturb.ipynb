{
 "cells": [
  {
   "cell_type": "code",
   "execution_count": 1,
   "metadata": {},
   "outputs": [],
   "source": [
    "%load_ext autoreload\n",
    "%autoreload 2"
   ]
  },
  {
   "cell_type": "code",
   "execution_count": 2,
   "metadata": {},
   "outputs": [],
   "source": [
    "from gears import PertData, GEARS\n",
    "import numpy as np\n",
    "import pandas as pd\n",
    "from tqdm import tqdm\n",
    "import scanpy as sc\n",
    "import anndata\n",
    "from scipy.sparse import csr_matrix"
   ]
  },
  {
   "cell_type": "code",
   "execution_count": 3,
   "metadata": {},
   "outputs": [],
   "source": [
    "data_dir = '/home/vinas/sc_perturbation_benchmark/data/tian_CRISPRi_2021_scperturb'"
   ]
  },
  {
   "cell_type": "markdown",
   "metadata": {},
   "source": [
    "#### Download data\n",
    "\n",
    "Download data from:\n",
    "```\n",
    "https://zenodo.org/records/7041849/files/TianKampmann2021_CRISPRi.h5ad?download=1\n",
    "```"
   ]
  },
  {
   "cell_type": "markdown",
   "metadata": {},
   "source": [
    "#### Process data"
   ]
  },
  {
   "cell_type": "code",
   "execution_count": 5,
   "metadata": {},
   "outputs": [
    {
     "data": {
      "text/plain": [
       "AnnData object with n_obs × n_vars = 32300 × 33538\n",
       "    obs: 'guide_id', 'perturbation', 'tissue_type', 'celltype', 'cancer', 'disease', 'perturbation_type', 'organism', 'batch', 'nperts', 'ngenes', 'ncounts', 'percent_mito', 'percent_ribo', 'percent_hemo'\n",
       "    var: 'ensembl_id', 'ncounts', 'ncells'"
      ]
     },
     "execution_count": 5,
     "metadata": {},
     "output_type": "execute_result"
    }
   ],
   "source": [
    "adata = anndata.read_h5ad(f'{data_dir}/TianKampmann2021_CRISPRi.h5ad')\n",
    "adata"
   ]
  },
  {
   "cell_type": "code",
   "execution_count": 6,
   "metadata": {},
   "outputs": [
    {
     "name": "stdout",
     "output_type": "stream",
     "text": [
      "TMEM55A\n",
      "ATP5C1\n",
      "control\n",
      "ATP5H\n"
     ]
    }
   ],
   "source": [
    "genes = adata.obs['perturbation'].unique().tolist()\n",
    "\n",
    "for i, gene in enumerate(genes):\n",
    "    if gene not in adata.var_names.tolist():\n",
    "        print(gene)"
   ]
  },
  {
   "cell_type": "code",
   "execution_count": 7,
   "metadata": {},
   "outputs": [],
   "source": [
    "target_genes = adata.obs['perturbation'].tolist()\n",
    "target_genes[target_genes=='TMEM55A']='PIP4P2'\n",
    "target_genes[target_genes=='ATP5C1']='ATP5F1C'\n",
    "target_genes[target_genes=='ATP5H']='ATP5PD'\n",
    "adata.obs['perturbation'] = target_genes"
   ]
  },
  {
   "cell_type": "code",
   "execution_count": 8,
   "metadata": {},
   "outputs": [],
   "source": [
    "sc.pp.normalize_total(adata)\n",
    "sc.pp.log1p(adata)\n",
    "sc.pp.highly_variable_genes(adata, n_top_genes=5000, subset=False)"
   ]
  },
  {
   "cell_type": "code",
   "execution_count": 9,
   "metadata": {},
   "outputs": [],
   "source": [
    "adata.var['gene_name'] = adata.var.index\n",
    "adata.obs['gene'] = adata.obs['perturbation']\n",
    "hvg_flag_ = adata.var['highly_variable'].values\n",
    "gene_flag_ = adata.var['gene_name'].isin(adata.obs['gene'].values).values\n",
    "select_flag_ = np.logical_or(hvg_flag_, gene_flag_)\n",
    "condition_flag_ = adata.obs['gene'].isin(adata.var['gene_name'].values.tolist()+['control']).values\n",
    "adata_subset = adata[condition_flag_, select_flag_]"
   ]
  },
  {
   "cell_type": "code",
   "execution_count": 10,
   "metadata": {},
   "outputs": [
    {
     "data": {
      "text/plain": [
       "gene\n",
       "control    437\n",
       "TAF1       375\n",
       "DNAJC6     362\n",
       "CREBBP     323\n",
       "PAXIP1     305\n",
       "          ... \n",
       "HSPA5       81\n",
       "KIF1B       73\n",
       "REEP2       72\n",
       "TARDBP      45\n",
       "ATP5PD       1\n",
       "Name: count, Length: 183, dtype: int64"
      ]
     },
     "execution_count": 10,
     "metadata": {},
     "output_type": "execute_result"
    }
   ],
   "source": [
    "pert_counts = adata_subset.obs['gene'].value_counts()\n",
    "pert_counts"
   ]
  },
  {
   "cell_type": "code",
   "execution_count": 11,
   "metadata": {},
   "outputs": [],
   "source": [
    "# Discard ATP5PD pert (GEARS needs > 1 sample to calculate statistics)\n",
    "m = pert_counts > 1\n",
    "keep_perts = m[m].index.values\n",
    "adata_subset = adata_subset[adata_subset.obs['gene'].isin(keep_perts)]"
   ]
  },
  {
   "cell_type": "code",
   "execution_count": 12,
   "metadata": {},
   "outputs": [
    {
     "data": {
      "text/plain": [
       "182"
      ]
     },
     "execution_count": 12,
     "metadata": {},
     "output_type": "execute_result"
    }
   ],
   "source": [
    "# Prepare data in GEARS format\n",
    "adata_subset.obs['condition'] = [i+'+ctrl' for i in adata_subset.obs['gene'].values]\n",
    "adata_subset.obs['condition'] = adata_subset.obs['condition'].replace({'control+ctrl': 'ctrl'})\n",
    "adata_subset.obs['cell_type'] = 'iPSC'\n",
    "len(adata_subset.obs['condition'].unique())"
   ]
  },
  {
   "cell_type": "code",
   "execution_count": 13,
   "metadata": {},
   "outputs": [
    {
     "name": "stderr",
     "output_type": "stream",
     "text": [
      "Downloading...\n",
      "100%|██████████████████████████████████████████████████████████████████████████████████████████████████████████████████████████████████████████████████████████████████████████████████████████████████████████████████████████████████████████████████████████████████████| 9.46M/9.46M [00:00<00:00, 9.60MiB/s]\n",
      "Downloading...\n",
      "100%|████████████████████████████████████████████████████████████████████████████████████████████████████████████████████████████████████████████████████████████████████████████████████████████████████████████████████████████████████████████████████████████████████████| 559k/559k [00:00<00:00, 1.44MiB/s]\n",
      "Creating pyg object for each cell in the data...\n",
      "Creating dataset file...\n",
      "100%|██████████████████████████████████████████████████████████████████████████████████████████████████████████████████████████████████████████████████████████████████████████████████████████████████████████████████████████████████████████████████████████████████████████| 182/182 [34:27<00:00, 11.36s/it]\n",
      "Done!\n",
      "Saving new dataset pyg object at /home/vinas/sc_perturbation_benchmark/data/tian_CRISPRi_2021_scperturb/crispri/data_pyg/cell_graphs.pkl\n",
      "Done!\n"
     ]
    }
   ],
   "source": [
    "out_dir = f'{data_dir}'\n",
    "pert_data = PertData(out_dir)\n",
    "pert_data.new_data_process(dataset_name = 'CRISPRi', adata = adata_subset)"
   ]
  },
  {
   "cell_type": "code",
   "execution_count": null,
   "metadata": {},
   "outputs": [],
   "source": []
  }
 ],
 "metadata": {
  "kernelspec": {
   "display_name": "perturb_bench",
   "language": "python",
   "name": "perturb_bench"
  },
  "language_info": {
   "codemirror_mode": {
    "name": "ipython",
    "version": 3
   },
   "file_extension": ".py",
   "mimetype": "text/x-python",
   "name": "python",
   "nbconvert_exporter": "python",
   "pygments_lexer": "ipython3",
   "version": "3.10.16"
  }
 },
 "nbformat": 4,
 "nbformat_minor": 4
}
