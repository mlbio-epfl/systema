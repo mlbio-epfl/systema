{
 "cells": [
  {
   "cell_type": "code",
   "execution_count": 1,
   "metadata": {},
   "outputs": [],
   "source": [
    "%load_ext autoreload\n",
    "%autoreload 2"
   ]
  },
  {
   "cell_type": "code",
   "execution_count": 3,
   "metadata": {},
   "outputs": [],
   "source": [
    "from gears import PertData, GEARS\n",
    "import numpy as np\n",
    "import pandas as pd\n",
    "from tqdm import tqdm\n",
    "import scanpy as sc\n",
    "import anndata\n",
    "from scipy.sparse import csr_matrix"
   ]
  },
  {
   "cell_type": "code",
   "execution_count": 4,
   "metadata": {},
   "outputs": [],
   "source": [
    "data_dir = '/home/vinas/sc_perturbation_benchmark/data/xu_kinetics_2024'"
   ]
  },
  {
   "cell_type": "markdown",
   "metadata": {},
   "source": [
    "#### Download data\n",
    "\n",
    "Download data from:\n",
    "```\n",
    "https://ftp.ncbi.nlm.nih.gov/geo/series/GSE218nnn/GSE218566/suppl/GSE218566_RAW.tar\n",
    "```"
   ]
  },
  {
   "cell_type": "markdown",
   "metadata": {},
   "source": [
    "#### Process data"
   ]
  },
  {
   "cell_type": "code",
   "execution_count": 20,
   "metadata": {},
   "outputs": [],
   "source": [
    "adata_ = anndata.read_mtx(f'{data_dir}/GSM6752591_on_target_whole_tx_count_matrix.mtx.gz')\n",
    "obs = pd.read_csv(f'{data_dir}/GSM6752591_on_target_cell_metadata.csv.gz', sep=',', compression='gzip')\n",
    "var = pd.read_csv(f'{data_dir}/GSM6752591_on_target_whole_tx.Genes.tsv.gz', sep=',', compression='gzip', header=None)\n",
    "var.columns = ['gene_name']\n",
    "adata = anndata.AnnData(adata_.X.T, obs=obs, var=var)"
   ]
  },
  {
   "cell_type": "code",
   "execution_count": 28,
   "metadata": {},
   "outputs": [
    {
     "name": "stdout",
     "output_type": "stream",
     "text": [
      "NO-TARGET\n"
     ]
    }
   ],
   "source": [
    "genes = adata.obs['target_genes'].unique().tolist()\n",
    "\n",
    "for i, gene in enumerate(genes):\n",
    "    if gene not in adata.var['gene_name'].values:\n",
    "        print(gene)"
   ]
  },
  {
   "cell_type": "code",
   "execution_count": 30,
   "metadata": {},
   "outputs": [],
   "source": [
    "sc.pp.normalize_total(adata)\n",
    "sc.pp.log1p(adata)\n",
    "sc.pp.highly_variable_genes(adata, n_top_genes=5000, subset=False)"
   ]
  },
  {
   "cell_type": "code",
   "execution_count": 31,
   "metadata": {},
   "outputs": [],
   "source": [
    "adata.obs['gene'] = adata.obs['target_genes']\n",
    "hvg_flag_ = adata.var['highly_variable'].values\n",
    "gene_flag_ = adata.var['gene_name'].isin(adata.obs['gene'].values).values\n",
    "select_flag_ = np.logical_or(hvg_flag_, gene_flag_)\n",
    "condition_flag_ = adata.obs['gene'].isin(adata.var['gene_name'].values.tolist()+['NO-TARGET']).values\n",
    "adata_subset = adata[condition_flag_, select_flag_]"
   ]
  },
  {
   "cell_type": "code",
   "execution_count": 33,
   "metadata": {},
   "outputs": [
    {
     "data": {
      "text/plain": [
       "condition\n",
       "ctrl             2758\n",
       "SMARCD1+ctrl     2158\n",
       "SLC25A1+ctrl     1880\n",
       "XPO5+ctrl        1583\n",
       "LDHA+ctrl        1437\n",
       "                 ... \n",
       "RBM8A+ctrl         16\n",
       "RUVBL1+ctrl        10\n",
       "RPL10+ctrl          9\n",
       "HEATR1+ctrl         9\n",
       "ATP6V1B2+ctrl       3\n",
       "Name: count, Length: 204, dtype: int64"
      ]
     },
     "execution_count": 33,
     "metadata": {},
     "output_type": "execute_result"
    }
   ],
   "source": [
    "# Prepare data in GEARS format\n",
    "adata_subset.obs['condition'] = [i+'+ctrl' for i in adata_subset.obs['gene'].values]\n",
    "adata_subset.obs['condition'] = adata_subset.obs['condition'].replace({'NO-TARGET+ctrl': 'ctrl'})\n",
    "adata_subset.obs['cell_type'] = 'HEK293'\n",
    "adata_subset.obs['condition'].value_counts()"
   ]
  },
  {
   "cell_type": "code",
   "execution_count": 34,
   "metadata": {},
   "outputs": [
    {
     "name": "stderr",
     "output_type": "stream",
     "text": [
      "Downloading...\n",
      "100%|██████████████████████████████████████████████████████████████████████████████████████████████████████████████████████████████████████████████████████████████████████████████████████████████████████████████████████████████████████████████████████████████████████| 9.46M/9.46M [00:01<00:00, 8.48MiB/s]\n",
      "Downloading...\n",
      "100%|████████████████████████████████████████████████████████████████████████████████████████████████████████████████████████████████████████████████████████████████████████████████████████████████████████████████████████████████████████████████████████████████████████| 559k/559k [00:00<00:00, 1.41MiB/s]\n",
      "Creating pyg object for each cell in the data...\n",
      "Creating dataset file...\n",
      " 39%|████████████████████████████████████████████████████████████████████████████████████████████████████████▋                                                                                                                                                                  | 80/204 [25:09<36:33, 17.69s/it]"
     ]
    },
    {
     "name": "stdout",
     "output_type": "stream",
     "text": [
      "SLC28A1+ctrl\n"
     ]
    },
    {
     "name": "stderr",
     "output_type": "stream",
     "text": [
      " 46%|█████████████████████████████████████████████████████████████████████████████████████████████████████████████████████████▋                                                                                                                                                 | 93/204 [28:05<18:35, 10.05s/it]"
     ]
    },
    {
     "name": "stdout",
     "output_type": "stream",
     "text": [
      "SLC29A3+ctrl\n"
     ]
    },
    {
     "name": "stderr",
     "output_type": "stream",
     "text": [
      " 57%|███████████████████████████████████████████████████████████████████████████████████████████████████████████████████████████████████████████████████████▎                                                                                                                  | 116/204 [34:11<22:00, 15.00s/it]"
     ]
    },
    {
     "name": "stdout",
     "output_type": "stream",
     "text": [
      "SLC29A4+ctrl\n"
     ]
    },
    {
     "name": "stderr",
     "output_type": "stream",
     "text": [
      " 58%|█████████████████████████████████████████████████████████████████████████████████████████████████████████████████████████████████████████████████████████▊                                                                                                                | 118/204 [34:47<22:47, 15.90s/it]"
     ]
    },
    {
     "name": "stdout",
     "output_type": "stream",
     "text": [
      "SLC28A3+ctrl\n"
     ]
    },
    {
     "name": "stderr",
     "output_type": "stream",
     "text": [
      " 64%|██████████████████████████████████████████████████████████████████████████████████████████████████████████████████████████████████████████████████████████████████████████▊                                                                                               | 131/204 [37:32<13:45, 11.31s/it]"
     ]
    },
    {
     "name": "stdout",
     "output_type": "stream",
     "text": [
      "ATP12A+ctrl\n"
     ]
    },
    {
     "name": "stderr",
     "output_type": "stream",
     "text": [
      "100%|██████████████████████████████████████████████████████████████████████████████████████████████████████████████████████████████████████████████████████████████████████████████████████████████████████████████████████████████████████████████████████████████████████████| 204/204 [44:24<00:00, 13.06s/it]\n",
      "Done!\n",
      "Saving new dataset pyg object at /home/vinas/sc_perturbation_benchmark/data/xu_kinetics_2024/hek293/data_pyg/cell_graphs.pkl\n",
      "Done!\n"
     ]
    }
   ],
   "source": [
    "out_dir = data_dir\n",
    "pert_data = PertData(out_dir)\n",
    "pert_data.new_data_process(dataset_name = 'HEK293', adata = adata_subset)"
   ]
  }
 ],
 "metadata": {
  "kernelspec": {
   "display_name": "perturb_bench",
   "language": "python",
   "name": "perturb_bench"
  },
  "language_info": {
   "codemirror_mode": {
    "name": "ipython",
    "version": 3
   },
   "file_extension": ".py",
   "mimetype": "text/x-python",
   "name": "python",
   "nbconvert_exporter": "python",
   "pygments_lexer": "ipython3",
   "version": "3.10.16"
  }
 },
 "nbformat": 4,
 "nbformat_minor": 4
}
